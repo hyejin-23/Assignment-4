{
 "cells": [
  {
   "cell_type": "markdown",
   "id": "a535b2a2-cfd6-45af-aba9-ae3f98459d71",
   "metadata": {},
   "source": [
    "# 1. LeetCode 225"
   ]
  },
  {
   "cell_type": "code",
   "execution_count": 5,
   "id": "72b7f2bd-0e55-47d3-b967-cffe905b1285",
   "metadata": {},
   "outputs": [
    {
     "name": "stdout",
     "output_type": "stream",
     "text": [
      "3\n",
      "3\n",
      "2\n",
      "False\n",
      "True\n"
     ]
    }
   ],
   "source": [
    "from collections import deque\n",
    "\n",
    "class MyStack:\n",
    "    def __init__(self):\n",
    "        self.q1 = deque()  \n",
    "        self.q2 = deque()  \n",
    "\n",
    "    def push(self, x: int) -> None:\n",
    "        self.q2.append(x)  \n",
    "        while self.q1:  \n",
    "            self.q2.append(self.q1.popleft())\n",
    "        self.q1, self.q2 = self.q2, self.q1  \n",
    "\n",
    "    def pop(self) -> int:\n",
    "        return self.q1.popleft()  \n",
    "\n",
    "    def top(self) -> int:\n",
    "        return self.q1[0] \n",
    "\n",
    "    def empty(self) -> bool:\n",
    "        return not self.q1  \n",
    "\n",
    "\n",
    "# 스택 객체 생성\n",
    "stack = MyStack()\n",
    "\n",
    "stack.push(1)\n",
    "stack.push(2)\n",
    "stack.push(3)\n",
    "\n",
    "print(stack.top()) \n",
    "\n",
    "print(stack.pop())  \n",
    "\n",
    "print(stack.top())  \n",
    "\n",
    "print(stack.empty()) \n",
    "\n",
    "stack.pop()\n",
    "stack.pop()\n",
    "print(stack.empty())  "
   ]
  },
  {
   "cell_type": "markdown",
   "id": "7ca9fbd5-abef-4bbf-b26e-661f0090ee4a",
   "metadata": {},
   "source": [
    "# 2. LeetCode 232"
   ]
  },
  {
   "cell_type": "code",
   "execution_count": 6,
   "id": "7618395a-36e0-4071-87a6-e0e0c13d39c9",
   "metadata": {},
   "outputs": [
    {
     "name": "stdout",
     "output_type": "stream",
     "text": [
      "1\n",
      "1\n",
      "2\n",
      "False\n",
      "True\n"
     ]
    }
   ],
   "source": [
    "class MyQueue:\n",
    "\n",
    "    def __init__(self):\n",
    "        self.stack1 = []  \n",
    "        self.stack2 = [] \n",
    "\n",
    "    def push(self, x: int) -> None:\n",
    "        self.stack1.append(x)\n",
    "\n",
    "    def pop(self) -> int:\n",
    "        if not self.stack2:  \n",
    "            while self.stack1:\n",
    "                self.stack2.append(self.stack1.pop())\n",
    "        return self.stack2.pop()\n",
    "\n",
    "    def peek(self) -> int:\n",
    "        if not self.stack2:\n",
    "            while self.stack1:\n",
    "                self.stack2.append(self.stack1.pop())\n",
    "        return self.stack2[-1]  \n",
    "    def empty(self) -> bool:\n",
    "        return not self.stack1 and not self.stack2\n",
    "\n",
    "# 큐 객체 생성\n",
    "queue = MyQueue()\n",
    "\n",
    "queue.push(1)\n",
    "queue.push(2)\n",
    "queue.push(3)\n",
    "\n",
    "print(queue.peek())  \n",
    "\n",
    "print(queue.pop()) \n",
    "\n",
    "print(queue.peek()) \n",
    "\n",
    "print(queue.empty())  \n",
    "\n",
    "queue.pop()\n",
    "queue.pop()\n",
    "print(queue.empty()) "
   ]
  },
  {
   "cell_type": "markdown",
   "id": "7335e09a-7dd0-4a74-8e28-8ab14a782330",
   "metadata": {},
   "source": [
    "# 3. Chapter 7"
   ]
  },
  {
   "cell_type": "code",
   "execution_count": null,
   "id": "c4ed1080-06af-419b-b5a4-414896e334e3",
   "metadata": {
    "scrolled": true
   },
   "outputs": [],
   "source": [
    "# 1번\n",
    "class ListQueue:\n",
    "\tdef __init__(self):\n",
    "    \tself.__queue = []\n",
    "    \n",
    "    def enqueue(self, item):\n",
    "    \tself.__queue.insert(0, item)\n",
    "        \n",
    "    def dequeue(self):\n",
    "    \treturn self.__queue.pop()\n",
    "        \n",
    "    def front(self):\n",
    "    \tif self.__queue.is_empty():\n",
    "        \treturn None\n",
    "        else:\n",
    "        \treturn self.__queue[len(self.__queue) - 1]\n",
    "            \n",
    "    def is_empty(self) -> bool:\n",
    "    \treturn not bool(self.__queue)\n",
    "        \n",
    "    def dequeue_all(self):\n",
    "    \tself.__queue.clear()"
   ]
  },
  {
   "cell_type": "code",
   "execution_count": null,
   "id": "753ba670-a4a8-411e-afc4-7d3f226a9d53",
   "metadata": {},
   "outputs": [],
   "source": [
    "# 2번\n",
    "def is_in_set(string: String) -> bool:\n",
    "\tq = ListQueue()\n",
    "    index = 0\n",
    "    while string[index] != '$':\n",
    "    \tq.enqueue(string[index])\n",
    "        index += 1\n",
    "    index += 1\n",
    "    while index < len(string):\n",
    "    \tif q.dequeue() != string[index]:\n",
    "        \treturn False\n",
    "        else:\n",
    "        \tindex += 1\n",
    "    return True"
   ]
  },
  {
   "cell_type": "code",
   "execution_count": null,
   "id": "6f248784-b037-4407-a216-b612ef8a849c",
   "metadata": {},
   "outputs": [],
   "source": [
    "# 3번\n",
    "def copy_linked_queue(a: LinkedQueue, b: LinkedQueue):\n",
    "\tb.dequeue_all()\n",
    "    temp_queue = LinkedQueue()\n",
    "    while not a.is_empty():\n",
    "    \ttemp_queue.enqueue(a.dequeue())\n",
    "    while not temp_queue.is_empty():\n",
    "    \ta.enqueue(temp_queue.front())\n",
    "        b.enqueue(temp_queue.dequeue())"
   ]
  },
  {
   "cell_type": "code",
   "execution_count": null,
   "id": "000b4dc1-b7d7-47a7-a4dc-0167b64eaf5a",
   "metadata": {},
   "outputs": [],
   "source": [
    "# 4번\n",
    "def push(q1: LinkedQueue, q2: LinkedQueue, item):\n",
    "\tq2.dequeue_all()\n",
    "\twhile not q1.is_empty():\n",
    "    \tq2.enqueue(q1.dequeue())\n",
    "    q1.enqueue(item)\n",
    "    while not q2.is_empty():\n",
    "    \tq1.enqueue(q2.dequeue())\n",
    "\n",
    "def pop(q1: LinkedQueue, q2: LinkedQueue):\n",
    "\tq2.dequeue_all()\n",
    "    count = 0\n",
    "\twhile not q1.is_empty():\n",
    "    \tq2.enqueue(q1.dequeue())\n",
    "        count += 1\n",
    "    while _ in range(count - 1):\n",
    "    \tq1.enqueue(q2.dequeue())\n",
    "    return q2.dequeue()"
   ]
  },
  {
   "cell_type": "code",
   "execution_count": null,
   "id": "c9f4807d-e699-482a-8e8f-abca1c1fbe1c",
   "metadata": {},
   "outputs": [],
   "source": [
    "# 5번\n",
    "def enqueue(s1: LinkedStack, s2: LinkedStack, item):\n",
    "\ts2.pop_all()\n",
    "    while not s1.is_empty():\n",
    "    \ts2.push(s1.pop())\n",
    "    s1.push(item)\n",
    "    while not s2.is_empty():\n",
    "    \ts1.push(s2.pop())\n",
    "\n",
    "def dequeue(s1: LinkedStack, s2: LinkedStack):\n",
    "\ts2.pop_all()\n",
    "    while not s1.is_empty():\n",
    "    \ts2.push(s1.pop())\n",
    "    ret_item = s2.pop()\n",
    "    while not s2.is_empty():\n",
    "    \ts1.push(s2.pop())\n",
    "    return ret_item"
   ]
  },
  {
   "cell_type": "code",
   "execution_count": null,
   "id": "1689d755-9405-4385-9c38-ce7c2e8a4bbc",
   "metadata": {},
   "outputs": [],
   "source": [
    "# 6번\n",
    "구현하고자 하는 Deque는 단방향원형리스트를 기반으로 한다.\n",
    "또한, 이 Deque의 front는 리스트의 맨 앞이며 tail은 리스트의 맨 끝으로 한다.\n",
    "enqueue()의 수행시간은 Deque의 front에서 수행할 시 Θ(1), Deque의 tail에서 수행할 시 Θ(1)이다. 따라서 수행 위치에 상관없이 enqueue()의 수행 시간은 Θ(1)이다.\n",
    "dequeue()의 수행시간은 Deque의 front에서 수행할 시 Θ(1), Deque의 tail에서 수행할 시 Θ(1)이다. 따라서 수행 위치에 상관없이 dequeue()의 수행 시간은 Θ(1)이다."
   ]
  },
  {
   "cell_type": "code",
   "execution_count": null,
   "id": "46e01cf4-95cb-431e-bc69-64db2e4d0d29",
   "metadata": {},
   "outputs": [],
   "source": [
    "# 7번\n",
    "구현하고자 하는 Deque는 단방향리스트를 기반으로 한다.\n",
    "또한, 이 Deque의 front는 리스트의 맨 앞이며 tail은 리스트의 맨 끝으로 한다.\n",
    "enqueue()의 수행시간은 Deque의 front에서 수행할 시 Θ(1), Deque의 tail에서 수행할 시 Θ(n)이다. 따라서 enqueue()의 수행 시간은 최악의 경우를 고려해 Θ(n)이다.\n",
    "dequeue()의 수행시간은 Deque의 front에서 수행할 시 Θ(1), Deque의 tail에서 수행할 시 Θ(n)이다. 따라서 dequeue()의 수행 시간은 최악의 경우를 고려해 Θ(n)이다."
   ]
  },
  {
   "cell_type": "code",
   "execution_count": null,
   "id": "720afb4b-4a59-4182-b715-2b3ec7e65cd2",
   "metadata": {},
   "outputs": [],
   "source": [
    "# 8번\n",
    "class ListDeque:\n",
    "\tdef __init__(self):\n",
    "    \tself.__queue = []\n",
    "    \n",
    "    def enqueue(self, item):\n",
    "    \tself.__queue.append(item)\n",
    "    \n",
    "    def dequeue(self):\n",
    "    \treturn self.__queue.pop(0)\n",
    "    \n",
    "    def push(self, item):\n",
    "    \tself.__queue.insert(0, item)\n",
    "    \n",
    "    def pop(self):\n",
    "    \treturn self.__queue.pop(len(self.__queue) - 1)\n",
    "    \n",
    "    def front(self):\n",
    "    \tif self.is_empty():\n",
    "        \treturn None\n",
    "        else:\n",
    "        \treturn self.__queue[0]\n",
    "    \n",
    "    def rear(self):\n",
    "    \tif self.is_empty():\n",
    "        \treturn None\n",
    "    \telse:\n",
    "        \treturn self.__queue[len(self.__queue) - 1]\n",
    "    \n",
    "    def is_empty(self):\n",
    "    \treturn not bool(self.__queue)\n",
    "    \n",
    "    def deque_all(self):\n",
    "    \tself.__queue.clear()\n",
    "    \n",
    "    def print_deque(self):\n",
    "    \tprint(\"Dequeue from front:\", end = ' ')\n",
    "        for index in range(len(self.__queue)):\n",
    "        \tprint(self.__queue[index], end = ' ')\n",
    "        print()"
   ]
  }
 ],
 "metadata": {
  "kernelspec": {
   "display_name": "Python 3 (ipykernel)",
   "language": "python",
   "name": "python3"
  },
  "language_info": {
   "codemirror_mode": {
    "name": "ipython",
    "version": 3
   },
   "file_extension": ".py",
   "mimetype": "text/x-python",
   "name": "python",
   "nbconvert_exporter": "python",
   "pygments_lexer": "ipython3",
   "version": "3.12.7"
  }
 },
 "nbformat": 4,
 "nbformat_minor": 5
}
