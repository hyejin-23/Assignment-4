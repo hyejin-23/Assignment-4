{
 "cells": [
  {
   "cell_type": "markdown",
   "id": "ff2383c0-1ebd-4c1f-af6f-159431ab0336",
   "metadata": {},
   "source": [
    "## 1. LeetCode 225"
   ]
  },
  {
   "cell_type": "code",
   "execution_count": null,
   "id": "93fb7bb7-5072-4f96-a3da-96b8c9206b6e",
   "metadata": {},
   "outputs": [],
   "source": [
    "from collections import deque\n",
    "\n",
    "class MyStack:\n",
    "    def __init__(self):\n",
    "        self.q1 = deque()  \n",
    "        self.q2 = deque()  \n",
    "\n",
    "    def push(self, x: int) -> None:\n",
    "        self.q2.append(x)  \n",
    "        while self.q1:  \n",
    "            self.q2.append(self.q1.popleft())\n",
    "        self.q1, self.q2 = self.q2, self.q1  \n",
    "\n",
    "    def pop(self) -> int:\n",
    "        return self.q1.popleft()  \n",
    "\n",
    "    def top(self) -> int:\n",
    "        return self.q1[0] \n",
    "\n",
    "    def empty(self) -> bool:\n",
    "        return not self.q1  "
   ]
  },
  {
   "cell_type": "markdown",
   "id": "e2f8d39d-054f-42fe-987c-f34b6918b432",
   "metadata": {},
   "source": [
    "## 2. LeetCode 232"
   ]
  },
  {
   "cell_type": "code",
   "execution_count": null,
   "id": "91a504ae-b9f1-4617-99a2-bf730b0a85df",
   "metadata": {},
   "outputs": [],
   "source": [
    "class MyQueue:\n",
    "\n",
    "    def __init__(self):\n",
    "        self.stack1 = []  \n",
    "        self.stack2 = [] \n",
    "\n",
    "    def push(self, x: int) -> None:\n",
    "        self.stack1.append(x)\n",
    "\n",
    "    def pop(self) -> int:\n",
    "        if not self.stack2:  \n",
    "            while self.stack1:\n",
    "                self.stack2.append(self.stack1.pop())\n",
    "        return self.stack2.pop()\n",
    "\n",
    "    def peek(self) -> int:\n",
    "        if not self.stack2:\n",
    "            while self.stack1:\n",
    "                self.stack2.append(self.stack1.pop())\n",
    "        return self.stack2[-1]  \n",
    "    def empty(self) -> bool:\n",
    "        return not self.stack1 and not self.stack2"
   ]
  },
  {
   "cell_type": "markdown",
   "id": "bcbc8736-0d1b-4a92-871c-2a332de9546c",
   "metadata": {},
   "source": [
    "## 3. Chapter 7"
   ]
  },
  {
   "cell_type": "code",
   "execution_count": null,
   "id": "4b25b240-cfcc-4b0b-9935-202a13654bae",
   "metadata": {},
   "outputs": [],
   "source": [
    "# 1번\n",
    "class ListQueue:\n",
    "\tdef __init__(self):\n",
    "    \tself.__queue = []\n",
    "    \n",
    "    def enqueue(self, item):\n",
    "    \tself.__queue.insert(0, item)\n",
    "        \n",
    "    def dequeue(self):\n",
    "    \treturn self.__queue.pop()\n",
    "        \n",
    "    def front(self):\n",
    "    \tif self.__queue.is_empty():\n",
    "        \treturn None\n",
    "        else:\n",
    "        \treturn self.__queue[len(self.__queue) - 1]\n",
    "            \n",
    "    def is_empty(self) -> bool:\n",
    "    \treturn not bool(self.__queue)\n",
    "        \n",
    "    def dequeue_all(self):\n",
    "    \tself.__queue.clear()"
   ]
  },
  {
   "cell_type": "code",
   "execution_count": null,
   "id": "0f8cc566-3d8e-4435-844e-080c99b59532",
   "metadata": {},
   "outputs": [],
   "source": [
    "# 2번\n",
    "def is_in_set(string: String) -> bool:\n",
    "\tq = ListQueue()\n",
    "    index = 0\n",
    "    while string[index] != '$':\n",
    "    \tq.enqueue(string[index])\n",
    "        index += 1\n",
    "    index += 1\n",
    "    while index < len(string):\n",
    "    \tif q.dequeue() != string[index]:\n",
    "        \treturn False\n",
    "        else:\n",
    "        \tindex += 1\n",
    "    return True"
   ]
  },
  {
   "cell_type": "code",
   "execution_count": null,
   "id": "a9665aa4-3688-411c-be03-b2a58bc98c08",
   "metadata": {},
   "outputs": [],
   "source": [
    "# 3번\n",
    "def copy_linked_queue(a: LinkedQueue, b: LinkedQueue):\n",
    "\tb.dequeue_all()\n",
    "    temp_queue = LinkedQueue()\n",
    "    while not a.is_empty():\n",
    "    \ttemp_queue.enqueue(a.dequeue())\n",
    "    while not temp_queue.is_empty():\n",
    "    \ta.enqueue(temp_queue.front())\n",
    "        b.enqueue(temp_queue.dequeue())"
   ]
  },
  {
   "cell_type": "code",
   "execution_count": null,
   "id": "9043b64e-fac9-44b9-87c1-7fff059f4f10",
   "metadata": {},
   "outputs": [],
   "source": [
    "# 4번\n",
    "def push(q1: LinkedQueue, q2: LinkedQueue, item):\n",
    "\tq2.dequeue_all()\n",
    "\twhile not q1.is_empty():\n",
    "    \tq2.enqueue(q1.dequeue())\n",
    "    q1.enqueue(item)\n",
    "    while not q2.is_empty():\n",
    "    \tq1.enqueue(q2.dequeue())\n",
    "\n",
    "def pop(q1: LinkedQueue, q2: LinkedQueue):\n",
    "\tq2.dequeue_all()\n",
    "    count = 0\n",
    "\twhile not q1.is_empty():\n",
    "    \tq2.enqueue(q1.dequeue())\n",
    "        count += 1\n",
    "    while _ in range(count - 1):\n",
    "    \tq1.enqueue(q2.dequeue())\n",
    "    return q2.dequeue()"
   ]
  },
  {
   "cell_type": "code",
   "execution_count": null,
   "id": "f1468879-fe69-4ee1-ae00-77414e4e66c3",
   "metadata": {},
   "outputs": [],
   "source": [
    "# 5번\n",
    "def enqueue(s1: LinkedStack, s2: LinkedStack, item):\n",
    "\ts2.pop_all()\n",
    "    while not s1.is_empty():\n",
    "    \ts2.push(s1.pop())\n",
    "    s1.push(item)\n",
    "    while not s2.is_empty():\n",
    "    \ts1.push(s2.pop())\n",
    "\n",
    "def dequeue(s1: LinkedStack, s2: LinkedStack):\n",
    "\ts2.pop_all()\n",
    "    while not s1.is_empty():\n",
    "    \ts2.push(s1.pop())\n",
    "    ret_item = s2.pop()\n",
    "    while not s2.is_empty():\n",
    "    \ts1.push(s2.pop())\n",
    "    return ret_item"
   ]
  },
  {
   "cell_type": "code",
   "execution_count": null,
   "id": "dd40dfb6-1270-458a-acbe-6f8e8ffecae2",
   "metadata": {},
   "outputs": [],
   "source": [
    "# 6번\n",
    "구현하고자 하는 Deque는 단방향원형리스트를 기반으로 한다.\n",
    "또한, 이 Deque의 front는 리스트의 맨 앞이며 tail은 리스트의 맨 끝으로 한다.\n",
    "enqueue()의 수행시간은 Deque의 front에서 수행할 시 Θ(1), Deque의 tail에서 수행할 시 Θ(1)이다. 따라서 수행 위치에 상관없이 enqueue()의 수행 시간은 Θ(1)이다.\n",
    "dequeue()의 수행시간은 Deque의 front에서 수행할 시 Θ(1), Deque의 tail에서 수행할 시 Θ(1)이다. 따라서 수행 위치에 상관없이 dequeue()의 수행 시간은 Θ(1)이다."
   ]
  },
  {
   "cell_type": "code",
   "execution_count": null,
   "id": "4b4a65a6-32ca-4835-ad1b-e61156c4cc85",
   "metadata": {},
   "outputs": [],
   "source": [
    "# 7번\n",
    "구현하고자 하는 Deque는 단방향리스트를 기반으로 한다.\n",
    "또한, 이 Deque의 front는 리스트의 맨 앞이며 tail은 리스트의 맨 끝으로 한다.\n",
    "enqueue()의 수행시간은 Deque의 front에서 수행할 시 Θ(1), Deque의 tail에서 수행할 시 Θ(n)이다. 따라서 enqueue()의 수행 시간은 최악의 경우를 고려해 Θ(n)이다.\n",
    "dequeue()의 수행시간은 Deque의 front에서 수행할 시 Θ(1), Deque의 tail에서 수행할 시 Θ(n)이다. 따라서 dequeue()의 수행 시간은 최악의 경우를 고려해 Θ(n)이다."
   ]
  },
  {
   "cell_type": "code",
   "execution_count": null,
   "id": "d89ebe95-a56d-4c0a-a0b9-2c58b32c359e",
   "metadata": {},
   "outputs": [],
   "source": [
    "# 8번\n",
    "class ListDeque:\n",
    "\tdef __init__(self):\n",
    "    \tself.__queue = []\n",
    "    \n",
    "    def enqueue(self, item):\n",
    "    \tself.__queue.append(item)\n",
    "    \n",
    "    def dequeue(self):\n",
    "    \treturn self.__queue.pop(0)\n",
    "    \n",
    "    def push(self, item):\n",
    "    \tself.__queue.insert(0, item)\n",
    "    \n",
    "    def pop(self):\n",
    "    \treturn self.__queue.pop(len(self.__queue) - 1)\n",
    "    \n",
    "    def front(self):\n",
    "    \tif self.is_empty():\n",
    "        \treturn None\n",
    "        else:\n",
    "        \treturn self.__queue[0]\n",
    "    \n",
    "    def rear(self):\n",
    "    \tif self.is_empty():\n",
    "        \treturn None\n",
    "    \telse:\n",
    "        \treturn self.__queue[len(self.__queue) - 1]\n",
    "    \n",
    "    def is_empty(self):\n",
    "    \treturn not bool(self.__queue)\n",
    "    \n",
    "    def deque_all(self):\n",
    "    \tself.__queue.clear()\n",
    "    \n",
    "    def print_deque(self):\n",
    "    \tprint(\"Dequeue from front:\", end = ' ')\n",
    "        for index in range(len(self.__queue)):\n",
    "        \tprint(self.__queue[index], end = ' ')\n",
    "        print()"
   ]
  }
 ],
 "metadata": {
  "kernelspec": {
   "display_name": "Python 3 (ipykernel)",
   "language": "python",
   "name": "python3"
  },
  "language_info": {
   "codemirror_mode": {
    "name": "ipython",
    "version": 3
   },
   "file_extension": ".py",
   "mimetype": "text/x-python",
   "name": "python",
   "nbconvert_exporter": "python",
   "pygments_lexer": "ipython3",
   "version": "3.12.7"
  }
 },
 "nbformat": 4,
 "nbformat_minor": 5
}
