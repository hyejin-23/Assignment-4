{
 "cells": [
  {
   "cell_type": "markdown",
   "id": "ff2383c0-1ebd-4c1f-af6f-159431ab0336",
   "metadata": {},
   "source": [
    "## 1. LeetCode 225"
   ]
  },
  {
   "cell_type": "code",
   "execution_count": null,
   "id": "93fb7bb7-5072-4f96-a3da-96b8c9206b6e",
   "metadata": {},
   "outputs": [],
   "source": [
    "from collections import deque\n",
    "\n",
    "class MyStack:\n",
    "    def __init__(self):\n",
    "        self.q1 = deque()  \n",
    "        self.q2 = deque()  \n",
    "\n",
    "    def push(self, x: int) -> None:\n",
    "        self.q2.append(x)  \n",
    "        while self.q1:  \n",
    "            self.q2.append(self.q1.popleft())\n",
    "        self.q1, self.q2 = self.q2, self.q1  \n",
    "\n",
    "    def pop(self) -> int:\n",
    "        return self.q1.popleft()  \n",
    "\n",
    "    def top(self) -> int:\n",
    "        return self.q1[0] \n",
    "\n",
    "    def empty(self) -> bool:\n",
    "        return not self.q1  "
   ]
  },
  {
   "cell_type": "markdown",
   "id": "e2f8d39d-054f-42fe-987c-f34b6918b432",
   "metadata": {},
   "source": [
    "## 2. LeetCode 232"
   ]
  },
  {
   "cell_type": "code",
   "execution_count": null,
   "id": "91a504ae-b9f1-4617-99a2-bf730b0a85df",
   "metadata": {},
   "outputs": [],
   "source": [
    "class MyQueue:\n",
    "\n",
    "    def __init__(self):\n",
    "        self.stack1 = []  \n",
    "        self.stack2 = [] \n",
    "\n",
    "    def push(self, x: int) -> None:\n",
    "        self.stack1.append(x)\n",
    "\n",
    "    def pop(self) -> int:\n",
    "        if not self.stack2:  \n",
    "            while self.stack1:\n",
    "                self.stack2.append(self.stack1.pop())\n",
    "        return self.stack2.pop()\n",
    "\n",
    "    def peek(self) -> int:\n",
    "        if not self.stack2:\n",
    "            while self.stack1:\n",
    "                self.stack2.append(self.stack1.pop())\n",
    "        return self.stack2[-1]  \n",
    "    def empty(self) -> bool:\n",
    "        return not self.stack1 and not self.stack2"
   ]
  },
  {
   "cell_type": "markdown",
   "id": "bcbc8736-0d1b-4a92-871c-2a332de9546c",
   "metadata": {},
   "source": [
    "## 3. Chapter 7"
   ]
  },
  {
   "cell_type": "code",
   "execution_count": null,
   "id": "4b25b240-cfcc-4b0b-9935-202a13654bae",
   "metadata": {},
   "outputs": [],
   "source": []
  }
 ],
 "metadata": {
  "kernelspec": {
   "display_name": "Python 3 (ipykernel)",
   "language": "python",
   "name": "python3"
  },
  "language_info": {
   "codemirror_mode": {
    "name": "ipython",
    "version": 3
   },
   "file_extension": ".py",
   "mimetype": "text/x-python",
   "name": "python",
   "nbconvert_exporter": "python",
   "pygments_lexer": "ipython3",
   "version": "3.12.7"
  }
 },
 "nbformat": 4,
 "nbformat_minor": 5
}
